{
 "cells": [
  {
   "cell_type": "code",
   "execution_count": 1,
   "metadata": {},
   "outputs": [],
   "source": [
    "if 10<5:\n",
    "    print('5')"
   ]
  },
  {
   "cell_type": "code",
   "execution_count": 2,
   "metadata": {},
   "outputs": [
    {
     "name": "stdout",
     "output_type": "stream",
     "text": [
      "5\n"
     ]
    }
   ],
   "source": [
    "if 10>5:\n",
    "    print(5)"
   ]
  },
  {
   "cell_type": "code",
   "execution_count": 3,
   "metadata": {},
   "outputs": [
    {
     "name": "stdout",
     "output_type": "stream",
     "text": [
      "5\n",
      "10\n"
     ]
    }
   ],
   "source": [
    "if 10>5:\n",
    "    print(5)\n",
    "print(10)"
   ]
  },
  {
   "cell_type": "code",
   "execution_count": 6,
   "metadata": {},
   "outputs": [
    {
     "name": "stdout",
     "output_type": "stream",
     "text": [
      "False\n"
     ]
    }
   ],
   "source": [
    "if 10<5:\n",
    "    print(5)\n",
    "else:\n",
    "    print('False')"
   ]
  },
  {
   "cell_type": "code",
   "execution_count": 8,
   "metadata": {},
   "outputs": [
    {
     "name": "stdout",
     "output_type": "stream",
     "text": [
      "Enter your balance: \n",
      "1600\n",
      "Balance greater than 1000\n"
     ]
    }
   ],
   "source": [
    "balance = input('Enter your balance: \\n')\n",
    "balance = int(balance)\n",
    "\n",
    "if balance > 1000:\n",
    "    print('Balance greater than 1000')\n",
    "else:\n",
    "    print('Balance less than 1000')"
   ]
  },
  {
   "cell_type": "code",
   "execution_count": 9,
   "metadata": {},
   "outputs": [
    {
     "name": "stdout",
     "output_type": "stream",
     "text": [
      "Enter your balance: \n",
      "1000\n",
      "Balance equal to 1000\n"
     ]
    }
   ],
   "source": [
    "balance = input('Enter your balance: \\n')\n",
    "balance = int(balance)\n",
    "\n",
    "if balance > 1000:\n",
    "    print('Balance greater than 1000')\n",
    "elif balance == 1000:\n",
    "    print('Balance equal to 1000')\n",
    "else:\n",
    "    print('Balance less than 1000')"
   ]
  },
  {
   "cell_type": "code",
   "execution_count": 11,
   "metadata": {},
   "outputs": [
    {
     "name": "stdout",
     "output_type": "stream",
     "text": [
      "Enter your balance: \n",
      "2500\n",
      "Balance greater than 1000\n"
     ]
    }
   ],
   "source": [
    "balance = input('Enter your balance: \\n')\n",
    "balance = int(balance)\n",
    "\n",
    "if balance > 1000:\n",
    "    print('Balance greater than 1000')\n",
    "elif balance == 1000:\n",
    "    print('Balance equal to 1000')\n",
    "elif balance > 2000:\n",
    "    print('Balance equal to 2000')\n",
    "else:\n",
    "    print('Balance less than 1000')"
   ]
  },
  {
   "cell_type": "code",
   "execution_count": 13,
   "metadata": {},
   "outputs": [
    {
     "name": "stdout",
     "output_type": "stream",
     "text": [
      "Enter your balance: \n",
      "1200\n",
      "Balance greater than 1000\n"
     ]
    }
   ],
   "source": [
    "balance = input('Enter your balance: \\n')\n",
    "balance = int(balance)\n",
    "\n",
    "if balance > 1000:\n",
    "    if balance > 1500:\n",
    "            print('Balance greater than 1500')\n",
    "    else:\n",
    "            print('Balance greater than 1000')\n",
    "elif balance == 1000:\n",
    "    print('Balance equal to 1000')\n",
    "else:\n",
    "    print('Balance less than 1000')"
   ]
  },
  {
   "cell_type": "code",
   "execution_count": 15,
   "metadata": {},
   "outputs": [
    {
     "name": "stdout",
     "output_type": "stream",
     "text": [
      "Enter your balance: \n",
      "1800\n",
      "Balance greater than 1500\n"
     ]
    }
   ],
   "source": [
    "balance = input('Enter your balance: \\n')\n",
    "balance = int(balance)\n",
    "\n",
    "if (balance > 1000 and balance > 1500):\n",
    "    print('Balance greater than 1500')\n",
    "elif (balance == 1000):\n",
    "    print('Balance equal to 1000')\n",
    "else:\n",
    "    print('Balance less than 1000')"
   ]
  },
  {
   "cell_type": "markdown",
   "metadata": {},
   "source": [
    "## Exception Handling"
   ]
  },
  {
   "cell_type": "code",
   "execution_count": 16,
   "metadata": {},
   "outputs": [
    {
     "ename": "ZeroDivisionError",
     "evalue": "division by zero",
     "output_type": "error",
     "traceback": [
      "\u001b[0;31m---------------------------------------------------------------------------\u001b[0m",
      "\u001b[0;31mZeroDivisionError\u001b[0m                         Traceback (most recent call last)",
      "\u001b[0;32m<ipython-input-16-88ea1474e743>\u001b[0m in \u001b[0;36m<module>\u001b[0;34m\u001b[0m\n\u001b[0;32m----> 1\u001b[0;31m \u001b[0mprint\u001b[0m\u001b[0;34m(\u001b[0m\u001b[0;36m50\u001b[0m\u001b[0;34m/\u001b[0m\u001b[0;36m0\u001b[0m\u001b[0;34m)\u001b[0m\u001b[0;34m\u001b[0m\u001b[0;34m\u001b[0m\u001b[0m\n\u001b[0m",
      "\u001b[0;31mZeroDivisionError\u001b[0m: division by zero"
     ]
    }
   ],
   "source": [
    "print(50/0)"
   ]
  },
  {
   "cell_type": "code",
   "execution_count": 17,
   "metadata": {},
   "outputs": [
    {
     "name": "stdout",
     "output_type": "stream",
     "text": [
      "You cannot divide a no. by zero!\n"
     ]
    }
   ],
   "source": [
    "try:\n",
    "    print(50/0)\n",
    "except:\n",
    "    print('You cannot divide a no. by zero!')"
   ]
  },
  {
   "cell_type": "code",
   "execution_count": 18,
   "metadata": {},
   "outputs": [
    {
     "name": "stdout",
     "output_type": "stream",
     "text": [
      "50.0\n"
     ]
    }
   ],
   "source": [
    "try:\n",
    "    print(50/1)\n",
    "except:\n",
    "    print('You cannot divide a no. by zero!')"
   ]
  },
  {
   "cell_type": "code",
   "execution_count": 19,
   "metadata": {},
   "outputs": [
    {
     "name": "stdout",
     "output_type": "stream",
     "text": [
      "Variable x is not defined\n"
     ]
    }
   ],
   "source": [
    "try:\n",
    "    print(x)\n",
    "except NameError:\n",
    "    print(\"Variable x is not defined\")\n",
    "except:\n",
    "    print(\"Somethin else went wrong\")"
   ]
  },
  {
   "cell_type": "code",
   "execution_count": 20,
   "metadata": {},
   "outputs": [
    {
     "name": "stdout",
     "output_type": "stream",
     "text": [
      "10\n"
     ]
    }
   ],
   "source": [
    "try:\n",
    "    x=10\n",
    "    print(x)\n",
    "except NameError:\n",
    "    print(\"Variable x is not defined\")\n",
    "except:\n",
    "    print(\"Somethin else went wrong\")"
   ]
  },
  {
   "cell_type": "code",
   "execution_count": 24,
   "metadata": {},
   "outputs": [],
   "source": [
    "try:\n",
    "    # perform file operations\n",
    "    f = open(\"test.txt\",encoding = 'utf-8')\n",
    "finally:\n",
    "    # close file\n",
    "    f.close()"
   ]
  },
  {
   "cell_type": "code",
   "execution_count": 29,
   "metadata": {},
   "outputs": [
    {
     "name": "stdout",
     "output_type": "stream",
     "text": [
      "Enter a positive integer: -10\n",
      "Entered number is not a positive number!\n"
     ]
    }
   ],
   "source": [
    "try:\n",
    "    a = int(input(\"Enter a positive integer: \"))\n",
    "    if a <= 0:\n",
    "        raise ValueError(\"Entered number is not a positive number!\")\n",
    "except ValueError as ve:\n",
    "    print(ve)"
   ]
  },
  {
   "cell_type": "code",
   "execution_count": null,
   "metadata": {},
   "outputs": [],
   "source": []
  }
 ],
 "metadata": {
  "kernelspec": {
   "display_name": "Python 3",
   "language": "python",
   "name": "python3"
  },
  "language_info": {
   "codemirror_mode": {
    "name": "ipython",
    "version": 3
   },
   "file_extension": ".py",
   "mimetype": "text/x-python",
   "name": "python",
   "nbconvert_exporter": "python",
   "pygments_lexer": "ipython3",
   "version": "3.8.3"
  }
 },
 "nbformat": 4,
 "nbformat_minor": 4
}
